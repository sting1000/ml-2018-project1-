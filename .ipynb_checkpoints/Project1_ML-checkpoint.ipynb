{
 "cells": [
  {
   "cell_type": "code",
   "execution_count": 12,
   "metadata": {},
   "outputs": [],
   "source": [
    "import pandas as pd\n",
    "import numpy as np\n",
    "from proj1_helpers import *\n",
    "from functions import *\n",
    "%matplotlib inline\n",
    "import matplotlib.pyplot as plt\n",
    "%load_ext autoreload"
   ]
  },
  {
   "cell_type": "code",
   "execution_count": 2,
   "metadata": {},
   "outputs": [],
   "source": [
    "def standardize(x):\n",
    "    \"\"\"Standardize the original data set.\"\"\"\n",
    "    mean_x = np.mean(x)\n",
    "    x = x - mean_x\n",
    "    std_x = np.std(x)\n",
    "    x = x / std_x\n",
    "    return x, mean_x, std_x\n",
    "\n",
    "\n",
    "def build_model_data(x, y):\n",
    "    \"\"\"Form (y,tX) to get regression data in matrix form.\"\"\"\n",
    "    num_samples = len(y)\n",
    "    tx = np.c_[np.ones(num_samples), x]\n",
    "    return tx, y"
   ]
  },
  {
   "cell_type": "code",
   "execution_count": 3,
   "metadata": {},
   "outputs": [],
   "source": [
    "#load train dataset\n",
    "yb, input_data, ids = load_csv_data(\"train.csv\")\n",
    "input_data, _, _ = standardize(input_data)\n",
    "input_data, _ = build_model_data(input_data, yb)"
   ]
  },
  {
   "cell_type": "code",
   "execution_count": 4,
   "metadata": {},
   "outputs": [],
   "source": [
    "#to split train dataset to 2 parts for test and train\n",
    "ratio = 0.7\n",
    "x_train, x_test, y_train, y_test, ids_train, ids_test = split_data(input_data, yb, ids, ratio)"
   ]
  },
  {
   "cell_type": "code",
   "execution_count": 5,
   "metadata": {},
   "outputs": [
    {
     "data": {
      "text/plain": [
       "(200000, 31)"
      ]
     },
     "execution_count": 5,
     "metadata": {},
     "output_type": "execute_result"
    }
   ],
   "source": [
    "x_train.shape"
   ]
  },
  {
   "cell_type": "code",
   "execution_count": 6,
   "metadata": {},
   "outputs": [
    {
     "name": "stdout",
     "output_type": "stream",
     "text": [
      "0.33916384481865136 0.34061590051214125\n"
     ]
    }
   ],
   "source": [
    "#test least_squares()\n",
    "w, loss = least_squares(y_train, x_train)\n",
    "print(loss, compute_loss(y_test, x_test, w))"
   ]
  },
  {
   "cell_type": "code",
   "execution_count": 7,
   "metadata": {},
   "outputs": [
    {
     "name": "stdout",
     "output_type": "stream",
     "text": [
      "0.4043650521190682 0.40653401214820245\n"
     ]
    }
   ],
   "source": [
    "#test GD()\n",
    "w_initial = np.zeros(31)\n",
    "max_iters = 100\n",
    "gamma = 0.05\n",
    "w, loss = least_squares_GD(y_train, x_train, w_initial, max_iters, gamma)\n",
    "print(loss, compute_loss(y_test,x_test,w))"
   ]
  },
  {
   "cell_type": "code",
   "execution_count": 11,
   "metadata": {},
   "outputs": [
    {
     "name": "stdout",
     "output_type": "stream",
     "text": [
      "0.4557681599248152 0.4566558950301707\n"
     ]
    }
   ],
   "source": [
    "#test SGD()\n",
    "w_initial = np.zeros(31)\n",
    "max_iters = 100\n",
    "gamma = 0.005\n",
    "w, loss = least_squares_SGD(y_train, x_train, w_initial, max_iters, gamma)\n",
    "print(loss, compute_loss(y_test,x_test,w))"
   ]
  },
  {
   "cell_type": "code",
   "execution_count": 9,
   "metadata": {},
   "outputs": [
    {
     "name": "stdout",
     "output_type": "stream",
     "text": [
      "0.4068064451142165 0.4087788680701711\n"
     ]
    }
   ],
   "source": [
    "#test ridge_regression()\n",
    "w, loss = ridge_regression(y_train, x_train, 0.1)\n",
    "print(loss, compute_loss(y_test,x_test,w))"
   ]
  },
  {
   "cell_type": "code",
   "execution_count": null,
   "metadata": {},
   "outputs": [],
   "source": []
  }
 ],
 "metadata": {
  "kernelspec": {
   "display_name": "Python [conda env:ada]",
   "language": "python",
   "name": "conda-env-ada-py"
  },
  "language_info": {
   "codemirror_mode": {
    "name": "ipython",
    "version": 3
   },
   "file_extension": ".py",
   "mimetype": "text/x-python",
   "name": "python",
   "nbconvert_exporter": "python",
   "pygments_lexer": "ipython3",
   "version": "3.5.6"
  }
 },
 "nbformat": 4,
 "nbformat_minor": 2
}
