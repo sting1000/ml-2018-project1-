{
 "cells": [
  {
   "cell_type": "markdown",
   "metadata": {},
   "source": [
    "# Machine Learning Project1"
   ]
  },
  {
   "cell_type": "markdown",
   "metadata": {},
   "source": [
    "In this project, you will learn to use the concepts we have seen in the lectures and practiced in the labs on a real-world dataset, start to ﬁnish. You will do exploratory data analysis to understand your dataset and your features, do feature processing and engineering to clean your dataset and extract more meaningful information, implement and use machine learning methods on real data, analyze your model and generate predictions using those methods and report your ﬁndings."
   ]
  },
  {
   "cell_type": "markdown",
   "metadata": {},
   "source": [
    "## Load and Clean Data"
   ]
  },
  {
   "cell_type": "markdown",
   "metadata": {},
   "source": [
    "For raw data, firstly, we need chect what conponent it has and how can we deal with it. So we import panda library to have a quick view of train dataset."
   ]
  },
  {
   "cell_type": "code",
   "execution_count": 1,
   "metadata": {},
   "outputs": [],
   "source": [
    "import pandas as pd\n",
    "import numpy as np\n",
    "from proj1_helpers import *\n",
    "from implementations import *\n",
    "%matplotlib inline\n",
    "import matplotlib.pyplot as plt\n",
    "%load_ext autoreload"
   ]
  },
  {
   "cell_type": "code",
   "execution_count": 2,
   "metadata": {},
   "outputs": [
    {
     "data": {
      "text/html": [
       "<div>\n",
       "<style scoped>\n",
       "    .dataframe tbody tr th:only-of-type {\n",
       "        vertical-align: middle;\n",
       "    }\n",
       "\n",
       "    .dataframe tbody tr th {\n",
       "        vertical-align: top;\n",
       "    }\n",
       "\n",
       "    .dataframe thead th {\n",
       "        text-align: right;\n",
       "    }\n",
       "</style>\n",
       "<table border=\"1\" class=\"dataframe\">\n",
       "  <thead>\n",
       "    <tr style=\"text-align: right;\">\n",
       "      <th></th>\n",
       "      <th>Id</th>\n",
       "      <th>Prediction</th>\n",
       "      <th>DER_mass_MMC</th>\n",
       "      <th>DER_mass_transverse_met_lep</th>\n",
       "      <th>DER_mass_vis</th>\n",
       "      <th>DER_pt_h</th>\n",
       "      <th>DER_deltaeta_jet_jet</th>\n",
       "      <th>DER_mass_jet_jet</th>\n",
       "      <th>DER_prodeta_jet_jet</th>\n",
       "      <th>DER_deltar_tau_lep</th>\n",
       "      <th>...</th>\n",
       "      <th>PRI_met_phi</th>\n",
       "      <th>PRI_met_sumet</th>\n",
       "      <th>PRI_jet_num</th>\n",
       "      <th>PRI_jet_leading_pt</th>\n",
       "      <th>PRI_jet_leading_eta</th>\n",
       "      <th>PRI_jet_leading_phi</th>\n",
       "      <th>PRI_jet_subleading_pt</th>\n",
       "      <th>PRI_jet_subleading_eta</th>\n",
       "      <th>PRI_jet_subleading_phi</th>\n",
       "      <th>PRI_jet_all_pt</th>\n",
       "    </tr>\n",
       "  </thead>\n",
       "  <tbody>\n",
       "    <tr>\n",
       "      <th>0</th>\n",
       "      <td>100000</td>\n",
       "      <td>s</td>\n",
       "      <td>138.470</td>\n",
       "      <td>51.655</td>\n",
       "      <td>97.827</td>\n",
       "      <td>27.980</td>\n",
       "      <td>0.91</td>\n",
       "      <td>124.711</td>\n",
       "      <td>2.666</td>\n",
       "      <td>3.064</td>\n",
       "      <td>...</td>\n",
       "      <td>-0.277</td>\n",
       "      <td>258.733</td>\n",
       "      <td>2</td>\n",
       "      <td>67.435</td>\n",
       "      <td>2.150</td>\n",
       "      <td>0.444</td>\n",
       "      <td>46.062</td>\n",
       "      <td>1.24</td>\n",
       "      <td>-2.475</td>\n",
       "      <td>113.497</td>\n",
       "    </tr>\n",
       "    <tr>\n",
       "      <th>1</th>\n",
       "      <td>100001</td>\n",
       "      <td>b</td>\n",
       "      <td>160.937</td>\n",
       "      <td>68.768</td>\n",
       "      <td>103.235</td>\n",
       "      <td>48.146</td>\n",
       "      <td>-999.00</td>\n",
       "      <td>-999.000</td>\n",
       "      <td>-999.000</td>\n",
       "      <td>3.473</td>\n",
       "      <td>...</td>\n",
       "      <td>-1.916</td>\n",
       "      <td>164.546</td>\n",
       "      <td>1</td>\n",
       "      <td>46.226</td>\n",
       "      <td>0.725</td>\n",
       "      <td>1.158</td>\n",
       "      <td>-999.000</td>\n",
       "      <td>-999.00</td>\n",
       "      <td>-999.000</td>\n",
       "      <td>46.226</td>\n",
       "    </tr>\n",
       "    <tr>\n",
       "      <th>2</th>\n",
       "      <td>100002</td>\n",
       "      <td>b</td>\n",
       "      <td>-999.000</td>\n",
       "      <td>162.172</td>\n",
       "      <td>125.953</td>\n",
       "      <td>35.635</td>\n",
       "      <td>-999.00</td>\n",
       "      <td>-999.000</td>\n",
       "      <td>-999.000</td>\n",
       "      <td>3.148</td>\n",
       "      <td>...</td>\n",
       "      <td>-2.186</td>\n",
       "      <td>260.414</td>\n",
       "      <td>1</td>\n",
       "      <td>44.251</td>\n",
       "      <td>2.053</td>\n",
       "      <td>-2.028</td>\n",
       "      <td>-999.000</td>\n",
       "      <td>-999.00</td>\n",
       "      <td>-999.000</td>\n",
       "      <td>44.251</td>\n",
       "    </tr>\n",
       "    <tr>\n",
       "      <th>3</th>\n",
       "      <td>100003</td>\n",
       "      <td>b</td>\n",
       "      <td>143.905</td>\n",
       "      <td>81.417</td>\n",
       "      <td>80.943</td>\n",
       "      <td>0.414</td>\n",
       "      <td>-999.00</td>\n",
       "      <td>-999.000</td>\n",
       "      <td>-999.000</td>\n",
       "      <td>3.310</td>\n",
       "      <td>...</td>\n",
       "      <td>0.060</td>\n",
       "      <td>86.062</td>\n",
       "      <td>0</td>\n",
       "      <td>-999.000</td>\n",
       "      <td>-999.000</td>\n",
       "      <td>-999.000</td>\n",
       "      <td>-999.000</td>\n",
       "      <td>-999.00</td>\n",
       "      <td>-999.000</td>\n",
       "      <td>0.000</td>\n",
       "    </tr>\n",
       "    <tr>\n",
       "      <th>4</th>\n",
       "      <td>100004</td>\n",
       "      <td>b</td>\n",
       "      <td>175.864</td>\n",
       "      <td>16.915</td>\n",
       "      <td>134.805</td>\n",
       "      <td>16.405</td>\n",
       "      <td>-999.00</td>\n",
       "      <td>-999.000</td>\n",
       "      <td>-999.000</td>\n",
       "      <td>3.891</td>\n",
       "      <td>...</td>\n",
       "      <td>-0.871</td>\n",
       "      <td>53.131</td>\n",
       "      <td>0</td>\n",
       "      <td>-999.000</td>\n",
       "      <td>-999.000</td>\n",
       "      <td>-999.000</td>\n",
       "      <td>-999.000</td>\n",
       "      <td>-999.00</td>\n",
       "      <td>-999.000</td>\n",
       "      <td>0.000</td>\n",
       "    </tr>\n",
       "  </tbody>\n",
       "</table>\n",
       "<p>5 rows × 32 columns</p>\n",
       "</div>"
      ],
      "text/plain": [
       "       Id Prediction  DER_mass_MMC  DER_mass_transverse_met_lep  DER_mass_vis  \\\n",
       "0  100000          s       138.470                       51.655        97.827   \n",
       "1  100001          b       160.937                       68.768       103.235   \n",
       "2  100002          b      -999.000                      162.172       125.953   \n",
       "3  100003          b       143.905                       81.417        80.943   \n",
       "4  100004          b       175.864                       16.915       134.805   \n",
       "\n",
       "   DER_pt_h  DER_deltaeta_jet_jet  DER_mass_jet_jet  DER_prodeta_jet_jet  \\\n",
       "0    27.980                  0.91           124.711                2.666   \n",
       "1    48.146               -999.00          -999.000             -999.000   \n",
       "2    35.635               -999.00          -999.000             -999.000   \n",
       "3     0.414               -999.00          -999.000             -999.000   \n",
       "4    16.405               -999.00          -999.000             -999.000   \n",
       "\n",
       "   DER_deltar_tau_lep       ...        PRI_met_phi  PRI_met_sumet  \\\n",
       "0               3.064       ...             -0.277        258.733   \n",
       "1               3.473       ...             -1.916        164.546   \n",
       "2               3.148       ...             -2.186        260.414   \n",
       "3               3.310       ...              0.060         86.062   \n",
       "4               3.891       ...             -0.871         53.131   \n",
       "\n",
       "   PRI_jet_num  PRI_jet_leading_pt  PRI_jet_leading_eta  PRI_jet_leading_phi  \\\n",
       "0            2              67.435                2.150                0.444   \n",
       "1            1              46.226                0.725                1.158   \n",
       "2            1              44.251                2.053               -2.028   \n",
       "3            0            -999.000             -999.000             -999.000   \n",
       "4            0            -999.000             -999.000             -999.000   \n",
       "\n",
       "   PRI_jet_subleading_pt  PRI_jet_subleading_eta  PRI_jet_subleading_phi  \\\n",
       "0                 46.062                    1.24                  -2.475   \n",
       "1               -999.000                 -999.00                -999.000   \n",
       "2               -999.000                 -999.00                -999.000   \n",
       "3               -999.000                 -999.00                -999.000   \n",
       "4               -999.000                 -999.00                -999.000   \n",
       "\n",
       "   PRI_jet_all_pt  \n",
       "0         113.497  \n",
       "1          46.226  \n",
       "2          44.251  \n",
       "3           0.000  \n",
       "4           0.000  \n",
       "\n",
       "[5 rows x 32 columns]"
      ]
     },
     "execution_count": 2,
     "metadata": {},
     "output_type": "execute_result"
    }
   ],
   "source": [
    "pd.read_csv(\"train.csv\").head()"
   ]
  },
  {
   "cell_type": "code",
   "execution_count": 3,
   "metadata": {},
   "outputs": [
    {
     "data": {
      "text/plain": [
       "-999.000    177457\n",
       " 30.447         11\n",
       " 32.982         10\n",
       " 35.062          9\n",
       " 33.740          9\n",
       "Name: PRI_jet_subleading_pt, dtype: int64"
      ]
     },
     "execution_count": 3,
     "metadata": {},
     "output_type": "execute_result"
    }
   ],
   "source": [
    "pd.read_csv(\"train.csv\")['PRI_jet_subleading_pt'].value_counts().sort_values(ascending=False).head()"
   ]
  },
  {
   "cell_type": "code",
   "execution_count": 4,
   "metadata": {},
   "outputs": [
    {
     "data": {
      "text/plain": [
       "0.000     99913\n",
       "36.358       10\n",
       "30.363       10\n",
       "36.493       10\n",
       "30.763       10\n",
       "Name: PRI_jet_all_pt, dtype: int64"
      ]
     },
     "execution_count": 4,
     "metadata": {},
     "output_type": "execute_result"
    }
   ],
   "source": [
    "pd.read_csv(\"train.csv\")['PRI_jet_all_pt'].value_counts().sort_values(ascending=False).head()"
   ]
  },
  {
   "cell_type": "markdown",
   "metadata": {},
   "source": [
    "Through observing the dataset, we find out that there are some positive columns has a large number of -999 which should be NaN actually. Specially, in one column called 'PRI_jet_all_pt', 0 value present quite frequently. All these situation above should be trated and give a reaonable solution.\n",
    "\n",
    "Here is our plan: \n",
    "1. Data eaquls to -999 is replaced by 0\n",
    "2. Consider 'PRI_jet_all_pt' as a normal case because we take 0 for missing data"
   ]
  },
  {
   "cell_type": "code",
   "execution_count": 5,
   "metadata": {},
   "outputs": [],
   "source": [
    "#load train dataset\n",
    "y, x, ids = load_csv_data(\"train.csv\")\n",
    "\n",
    "#replace -999 with 0\n",
    "x[x==-999] = 0\n",
    "\n",
    "# Standardizing it by features\n",
    "x, _, _ = standardize(x) "
   ]
  },
  {
   "cell_type": "markdown",
   "metadata": {},
   "source": [
    "Also, correlation features should be take into consideration."
   ]
  },
  {
   "cell_type": "code",
   "execution_count": null,
   "metadata": {},
   "outputs": [],
   "source": []
  },
  {
   "cell_type": "code",
   "execution_count": null,
   "metadata": {},
   "outputs": [],
   "source": []
  },
  {
   "cell_type": "markdown",
   "metadata": {},
   "source": [
    "## Prepare Data and Basic Training"
   ]
  },
  {
   "cell_type": "markdown",
   "metadata": {},
   "source": [
    "We use the cell below to control all the parameters we need, so that all processes could be easy to adjust."
   ]
  },
  {
   "cell_type": "code",
   "execution_count": 16,
   "metadata": {},
   "outputs": [],
   "source": [
    "#build polynomial by degree\n",
    "degree = 1\n",
    "#split train dataset to 2 parts for test and train\n",
    "ratio_split = 0.8\n",
    "#L2 penalty parameter for ridge_regression()\n",
    "lambda_ = 0.1\n",
    "#GD\n",
    "max_iters_GD = 100\n",
    "gamma_GD = 0.05\n",
    "#SGD\n",
    "max_iters_SGD = 100\n",
    "gamma_SGD = 0.005"
   ]
  },
  {
   "cell_type": "markdown",
   "metadata": {},
   "source": [
    "__Build Polinomial and Split Data to train and test sets__"
   ]
  },
  {
   "cell_type": "code",
   "execution_count": 7,
   "metadata": {},
   "outputs": [],
   "source": [
    "x_ = build_poly(x, degree)\n",
    "x_train, x_test, y_train, y_test = split_data(x_, y, ratio_split)"
   ]
  },
  {
   "cell_type": "code",
   "execution_count": 8,
   "metadata": {},
   "outputs": [
    {
     "name": "stdout",
     "output_type": "stream",
     "text": [
      "The size of x_train: (200000, 31)\n",
      "The size of x_test: (50000, 31)\n"
     ]
    }
   ],
   "source": [
    "print('The size of x_train: {}\\nThe size of x_test: {}'.format( x_train.shape, x_test.shape))"
   ]
  },
  {
   "cell_type": "markdown",
   "metadata": {},
   "source": [
    "__Test the functions in implements.py__"
   ]
  },
  {
   "cell_type": "code",
   "execution_count": 9,
   "metadata": {},
   "outputs": [
    {
     "name": "stdout",
     "output_type": "stream",
     "text": [
      "0.33868042912568036 0.3403986561416048\n"
     ]
    }
   ],
   "source": [
    "# least_squares()\n",
    "w, loss = least_squares(y_train, x_train)\n",
    "print(loss, compute_loss(y_test, x_test, w))"
   ]
  },
  {
   "cell_type": "code",
   "execution_count": 10,
   "metadata": {},
   "outputs": [
    {
     "name": "stdout",
     "output_type": "stream",
     "text": [
      "0.34885606186103774 0.350771292524502\n"
     ]
    }
   ],
   "source": [
    "# ridge_regression()\n",
    "w, loss = ridge_regression(y_train, x_train, lambda_)\n",
    "print(loss, compute_loss(y_test, x_test, w))"
   ]
  },
  {
   "cell_type": "code",
   "execution_count": 11,
   "metadata": {},
   "outputs": [
    {
     "name": "stdout",
     "output_type": "stream",
     "text": [
      "0.3443629163081776 0.34639654734714265\n"
     ]
    }
   ],
   "source": [
    "# GD()\n",
    "w_initial = np.zeros(x_train.shape[1])\n",
    "w, loss = least_squares_GD(y_train, x_train, w_initial, max_iters_GD, gamma_GD)\n",
    "print(loss, compute_loss(y_test,x_test,w))"
   ]
  },
  {
   "cell_type": "code",
   "execution_count": 17,
   "metadata": {},
   "outputs": [
    {
     "name": "stdout",
     "output_type": "stream",
     "text": [
      "Loss: 0.4997930660680177, iteration: 0\n",
      "Loss: 0.4966939614968599, iteration: 1\n",
      "Loss: 0.4925197550876042, iteration: 2\n",
      "Loss: 0.5022169090340767, iteration: 3\n",
      "Loss: 0.49699706185301074, iteration: 4\n",
      "Loss: 0.48318313051945094, iteration: 5\n",
      "Loss: 0.4818956596886126, iteration: 6\n",
      "Loss: 0.47487265959856917, iteration: 7\n",
      "Loss: 0.47757137095765095, iteration: 8\n",
      "Loss: 0.4904687781379524, iteration: 9\n",
      "Loss: 0.4783728070240904, iteration: 10\n",
      "Loss: 0.4730571553143171, iteration: 11\n",
      "Loss: 0.46595061489796297, iteration: 12\n",
      "Loss: 0.4678494412494574, iteration: 13\n",
      "Loss: 0.46847673758713126, iteration: 14\n",
      "Loss: 0.46340580308549323, iteration: 15\n",
      "Loss: 0.45685089212216434, iteration: 16\n",
      "Loss: 0.45804743116452473, iteration: 17\n",
      "Loss: 0.45984701283071777, iteration: 18\n",
      "Loss: 0.4594926918072465, iteration: 19\n",
      "Loss: 0.4533909430819564, iteration: 20\n",
      "Loss: 0.45263967880368117, iteration: 21\n",
      "Loss: 0.4513189617384892, iteration: 22\n",
      "Loss: 0.4523362181240805, iteration: 23\n",
      "Loss: 0.4506443885862355, iteration: 24\n",
      "Loss: 0.4483810657347385, iteration: 25\n",
      "Loss: 0.44623405566176955, iteration: 26\n",
      "Loss: 0.4467923125685988, iteration: 27\n",
      "Loss: 0.4447779081825449, iteration: 28\n",
      "Loss: 0.4429419718625633, iteration: 29\n",
      "Loss: 0.4428318078697429, iteration: 30\n",
      "Loss: 0.4423692085207358, iteration: 31\n",
      "Loss: 0.44283426743312154, iteration: 32\n",
      "Loss: 0.4385651337250329, iteration: 33\n",
      "Loss: 0.43801231214256087, iteration: 34\n",
      "Loss: 0.4372186498432299, iteration: 35\n",
      "Loss: 0.437122900938641, iteration: 36\n",
      "Loss: 0.4350244336412415, iteration: 37\n",
      "Loss: 0.4341709506838073, iteration: 38\n",
      "Loss: 0.433607745006172, iteration: 39\n",
      "Loss: 0.43139132380817946, iteration: 40\n",
      "Loss: 0.44264882358948787, iteration: 41\n",
      "Loss: 0.43730962941391954, iteration: 42\n",
      "Loss: 0.437482738888263, iteration: 43\n",
      "Loss: 0.4407839967973704, iteration: 44\n",
      "Loss: 0.441054225645047, iteration: 45\n",
      "Loss: 0.4316367974063514, iteration: 46\n",
      "Loss: 0.4339312013253579, iteration: 47\n",
      "Loss: 0.43255183032406347, iteration: 48\n",
      "Loss: 0.43079866374484443, iteration: 49\n",
      "Loss: 0.4293432800131831, iteration: 50\n",
      "Loss: 0.42795179680551965, iteration: 51\n",
      "Loss: 0.42886195586970083, iteration: 52\n",
      "Loss: 0.42906746796714534, iteration: 53\n",
      "Loss: 0.4326265108312414, iteration: 54\n",
      "Loss: 0.4264504850348184, iteration: 55\n",
      "Loss: 0.42198317447716965, iteration: 56\n",
      "Loss: 0.4177866216821229, iteration: 57\n",
      "Loss: 0.41514555798445757, iteration: 58\n",
      "Loss: 0.4142736906077333, iteration: 59\n",
      "Loss: 0.41299263427666155, iteration: 60\n",
      "Loss: 0.4131492066932534, iteration: 61\n",
      "Loss: 0.4122160363235801, iteration: 62\n",
      "Loss: 0.4130646204261275, iteration: 63\n",
      "Loss: 0.41550973659503254, iteration: 64\n",
      "Loss: 0.41511082845825076, iteration: 65\n",
      "Loss: 0.4188906581847089, iteration: 66\n",
      "Loss: 0.4248382584604934, iteration: 67\n",
      "Loss: 0.42845965857439633, iteration: 68\n",
      "Loss: 0.43147376229668466, iteration: 69\n",
      "Loss: 0.42811598262205053, iteration: 70\n",
      "Loss: 0.42773963660334696, iteration: 71\n",
      "Loss: 0.4235024270178124, iteration: 72\n",
      "Loss: 0.42459951601507434, iteration: 73\n",
      "Loss: 0.4272274782294037, iteration: 74\n",
      "Loss: 0.4185581025294287, iteration: 75\n",
      "Loss: 0.4138625712937332, iteration: 76\n",
      "Loss: 0.41109385207706917, iteration: 77\n",
      "Loss: 0.41075902680656295, iteration: 78\n",
      "Loss: 0.41085853717086035, iteration: 79\n",
      "Loss: 0.4106590999954204, iteration: 80\n",
      "Loss: 0.4123436959545919, iteration: 81\n",
      "Loss: 0.4132638011064443, iteration: 82\n",
      "Loss: 0.41468451352506736, iteration: 83\n",
      "Loss: 0.4166500229708329, iteration: 84\n",
      "Loss: 0.41585912624137983, iteration: 85\n",
      "Loss: 0.4264980899377283, iteration: 86\n",
      "Loss: 0.4316574730537946, iteration: 87\n",
      "Loss: 0.4287716968447415, iteration: 88\n",
      "Loss: 0.43374889155732865, iteration: 89\n",
      "Loss: 0.43854992990492675, iteration: 90\n",
      "Loss: 0.44263646996372397, iteration: 91\n",
      "Loss: 0.4351585792559948, iteration: 92\n",
      "Loss: 0.4383472789452081, iteration: 93\n",
      "Loss: 0.4429232040134096, iteration: 94\n",
      "Loss: 0.44623474877699104, iteration: 95\n",
      "Loss: 0.45038573206788884, iteration: 96\n",
      "Loss: 0.45211604276078715, iteration: 97\n",
      "Loss: 0.43451024899848584, iteration: 98\n",
      "Loss: 0.4293365723261689, iteration: 99\n"
     ]
    }
   ],
   "source": [
    "# SGD()\n",
    "w_initial = np.zeros(x_train.shape[1])\n",
    "\n",
    "# loss_mae is the argument to get the mean absolute error cost function running\n",
    "w, loss = least_squares_SGD(y_train, x_train, w_initial, max_iters_SGD, gamma_SGD)#, loss_function='rmse')\n",
    "# print('Training loss: {}'.format(loss))\n",
    "# print('Testing loss: {}'.format(compute_loss(y_test, x_test, w, loss_function='rmse')))"
   ]
  },
  {
   "cell_type": "code",
   "execution_count": 13,
   "metadata": {},
   "outputs": [],
   "source": [
    "\n",
    "\n",
    "training_predict_labels = calculate_predicted_labels(x_train, w)\n",
    "testing_predict_labels = calculate_predicted_labels(x_test, w)"
   ]
  },
  {
   "cell_type": "code",
   "execution_count": 14,
   "metadata": {},
   "outputs": [
    {
     "name": "stdout",
     "output_type": "stream",
     "text": [
      "Total correct labels in training: 145257\n",
      "Training accuracy: 72.6285\n",
      "Total correct labels in training: 36204\n",
      "Testing accuracy: 72.408\n"
     ]
    }
   ],
   "source": [
    "\n",
    "print_accuracy(training_predict_labels, x_train, y_train)\n",
    "print_accuracy(testing_predict_labels, x_test, y_test, train=False)"
   ]
  },
  {
   "cell_type": "code",
   "execution_count": null,
   "metadata": {},
   "outputs": [],
   "source": []
  }
 ],
 "metadata": {
  "kernelspec": {
   "display_name": "Python [default]",
   "language": "python",
   "name": "python3"
  },
  "language_info": {
   "codemirror_mode": {
    "name": "ipython",
    "version": 3
   },
   "file_extension": ".py",
   "mimetype": "text/x-python",
   "name": "python",
   "nbconvert_exporter": "python",
   "pygments_lexer": "ipython3",
   "version": "3.5.6"
  }
 },
 "nbformat": 4,
 "nbformat_minor": 2
}
