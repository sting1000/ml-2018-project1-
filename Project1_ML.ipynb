{
 "cells": [
  {
   "cell_type": "code",
   "execution_count": null,
   "metadata": {},
   "outputs": [],
   "source": [
    "import pandas as pd\n",
    "import numpy as np\n",
    "from proj1_helpers import *\n",
    "from functions import *\n",
    "%matplotlib inline\n",
    "import matplotlib.pyplot as plt\n",
    "%load_ext autoreload"
   ]
  },
  {
   "cell_type": "code",
   "execution_count": null,
   "metadata": {},
   "outputs": [],
   "source": [
    "def standardize(x):\n",
    "    \"\"\"\n",
    "    Standardize the original data set.\n",
    "    \n",
    "    :param: x: input data which needs to be standardized\n",
    "    \n",
    "    Multiple columns represent features so need to take mean of each standardized feature\n",
    "    \"\"\"\n",
    "    mean_x = np.mean(x, axis=0)\n",
    "    x = x - mean_x\n",
    "    std_x = np.std(x, axis=0)\n",
    "    x = x / std_x\n",
    "    return x, mean_x, std_x\n",
    "\n",
    "\n",
    "def build_model_data(x, y):\n",
    "    \"\"\"\n",
    "    Form (y,tX) to get regression data in matrix form.\n",
    "    \n",
    "    :param: x: input data which is standardized and cleaned.\n",
    "    :param: y: labels for the dataset\n",
    "    \"\"\"\n",
    "    num_samples = len(y)\n",
    "    tx = np.c_[np.ones(num_samples), x]\n",
    "    return tx, y"
   ]
  },
  {
   "cell_type": "code",
   "execution_count": null,
   "metadata": {},
   "outputs": [],
   "source": [
    "pd.read_csv(\"train.csv\").head()"
   ]
  },
  {
   "cell_type": "code",
   "execution_count": null,
   "metadata": {},
   "outputs": [],
   "source": [
    "#load train dataset\n",
    "yb, input_data, ids = load_csv_data(\"train.csv\")"
   ]
  },
  {
   "cell_type": "code",
   "execution_count": null,
   "metadata": {},
   "outputs": [],
   "source": [
    "input_data, _, _ = standardize(input_data) # Standardizing it by features"
   ]
  },
  {
   "cell_type": "code",
   "execution_count": null,
   "metadata": {},
   "outputs": [],
   "source": [
    "input_data, _ = build_model_data(input_data, yb)\n",
    "print(input_data)"
   ]
  },
  {
   "cell_type": "code",
   "execution_count": null,
   "metadata": {},
   "outputs": [],
   "source": [
    "#to split train dataset to 2 parts for test and train\n",
    "ratio = 0.8\n",
    "x_train, x_test, y_train, y_test, ids_train, ids_test = split_data(input_data, yb, ids, ratio)"
   ]
  },
  {
   "cell_type": "code",
   "execution_count": null,
   "metadata": {},
   "outputs": [],
   "source": [
    "x_train.shape"
   ]
  },
  {
   "cell_type": "code",
   "execution_count": null,
   "metadata": {},
   "outputs": [],
   "source": [
    "#test least_squares()\n",
    "w, loss = least_squares(y_train, x_train)\n",
    "print(loss, compute_loss(y_test, x_test, w))"
   ]
  },
  {
   "cell_type": "code",
   "execution_count": null,
   "metadata": {},
   "outputs": [],
   "source": [
    "#test ridge_regression()\n",
    "w, loss = ridge_regression(y_train, x_train, 0.1)\n",
    "print(loss, compute_loss(y_test, x_test, w))"
   ]
  },
  {
   "cell_type": "code",
   "execution_count": null,
   "metadata": {},
   "outputs": [],
   "source": [
    "#test GD()\n",
    "w_initial = np.zeros(31)\n",
    "max_iters = 100\n",
    "gamma = 0.05\n",
    "w, loss = least_squares_GD(y_train, x_train, w_initial, max_iters, gamma)\n",
    "print(loss, compute_loss(y_test,x_test,w))"
   ]
  },
  {
   "cell_type": "code",
   "execution_count": null,
   "metadata": {},
   "outputs": [],
   "source": [
    "#test SGD()\n",
    "w_initial = np.zeros(31)\n",
    "max_iters = 1000\n",
    "gamma = 0.005\n",
    "\n",
    "# loss_mae is the argument to get the mean absolute error cost function running\n",
    "w, loss = least_squares_SGD(y_train, x_train, w_initial, max_iters, gamma, loss_function='rmse')\n",
    "print('Training loss: {}'.format(loss))\n",
    "print('Testing loss: {}'.format(compute_loss(y_test, x_test, w, loss_function='rmse')))"
   ]
  },
  {
   "cell_type": "code",
   "execution_count": null,
   "metadata": {},
   "outputs": [],
   "source": [
    "def calculate_predicted_labels(x, w):\n",
    "    y_pred = x.dot(w)\n",
    "    y_pred[np.where(y_pred <= 0)] = -1\n",
    "    y_pred[np.where(y_pred > 0)] = 1\n",
    "    \n",
    "    return y_pred\n",
    "\n",
    "training_predict_labels = calculate_predicted_labels(x_train, w)\n",
    "testing_predict_labels = calculate_predicted_labels(x_test, w)"
   ]
  },
  {
   "cell_type": "code",
   "execution_count": null,
   "metadata": {},
   "outputs": [],
   "source": [
    "def print_accuracy(predict_labels, x, y, train=True):\n",
    "    total_correct_labels = np.sum(predict_labels == y)\n",
    "    print('Total correct labels in training: {}'.format(total_correct_labels))\n",
    "    if train:\n",
    "        print('Training accuracy: {}'.format((total_correct_labels / x.shape[0]) * 100))\n",
    "    else:\n",
    "        print('Testing accuracy: {}'.format((total_correct_labels / x.shape[0]) * 100))\n",
    "\n",
    "print_accuracy(training_predict_labels, x_train, y_train)\n",
    "print_accuracy(testing_predict_labels, x_test, y_test, train=False)"
   ]
  },
  {
   "cell_type": "code",
   "execution_count": null,
   "metadata": {},
   "outputs": [],
   "source": []
  }
 ],
 "metadata": {
  "kernelspec": {
   "display_name": "Python 3",
   "language": "python",
   "name": "python3"
  },
  "language_info": {
   "codemirror_mode": {
    "name": "ipython",
    "version": 3
   },
   "file_extension": ".py",
   "mimetype": "text/x-python",
   "name": "python",
   "nbconvert_exporter": "python",
   "pygments_lexer": "ipython3",
   "version": "3.6.3"
  }
 },
 "nbformat": 4,
 "nbformat_minor": 2
}
